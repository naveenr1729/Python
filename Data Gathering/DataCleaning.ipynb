{
 "cells": [
  {
   "cell_type": "code",
   "execution_count": 1,
   "metadata": {},
   "outputs": [],
   "source": [
    "import pandas as pd\n",
    "import numpy as np"
   ]
  },
  {
   "cell_type": "markdown",
   "metadata": {},
   "source": [
    "# Data Accessing\n",
    "\n",
    "In this step, the data is to be understood more deeply.Before implementing methods to clean it, you will definitely need to have a better idea about what the data is about."
   ]
  },
  {
   "cell_type": "markdown",
   "metadata": {},
   "source": [
    "# Typea of Unclean data\n",
    "* **Dirty Data:** Dirty data, also known as low quality data has content issues.\n",
    "* Duplicated data.\n",
    "* Missing data.\n",
    "* Corrupt data.\n",
    "* Inaccurate Data.\n",
    "<ol>\n",
    "<li> Each variable forms a table.</li>\n",
    "<l1> Each observation forms a row.</l1>\n",
    "<l1> Each observational unit forms a table.</li>\n",
    "</ol>\n"
   ]
  },
  {
   "cell_type": "code",
   "execution_count": null,
   "metadata": {},
   "outputs": [],
   "source": []
  },
  {
   "cell_type": "code",
   "execution_count": null,
   "metadata": {},
   "outputs": [],
   "source": []
  }
 ],
 "metadata": {
  "kernelspec": {
   "display_name": "Python 3",
   "language": "python",
   "name": "python3"
  },
  "language_info": {
   "codemirror_mode": {
    "name": "ipython",
    "version": 3
   },
   "file_extension": ".py",
   "mimetype": "text/x-python",
   "name": "python",
   "nbconvert_exporter": "python",
   "pygments_lexer": "ipython3",
   "version": "3.11.4"
  }
 },
 "nbformat": 4,
 "nbformat_minor": 2
}
